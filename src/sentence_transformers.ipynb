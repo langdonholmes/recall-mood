{
 "cells": [
  {
   "cell_type": "code",
   "execution_count": 74,
   "id": "a5a3b00c-2ea7-4ac9-8c5e-7cd4e738f0a3",
   "metadata": {},
   "outputs": [
    {
     "data": {
      "text/html": [
       "<div>\n",
       "<style scoped>\n",
       "    .dataframe tbody tr th:only-of-type {\n",
       "        vertical-align: middle;\n",
       "    }\n",
       "\n",
       "    .dataframe tbody tr th {\n",
       "        vertical-align: top;\n",
       "    }\n",
       "\n",
       "    .dataframe thead th {\n",
       "        text-align: right;\n",
       "    }\n",
       "</style>\n",
       "<table border=\"1\" class=\"dataframe\">\n",
       "  <thead>\n",
       "    <tr style=\"text-align: right;\">\n",
       "      <th></th>\n",
       "      <th>Date</th>\n",
       "      <th>Experimenter</th>\n",
       "      <th>Subject Initials</th>\n",
       "      <th>SubjectID</th>\n",
       "      <th>ConditionExpt</th>\n",
       "      <th>ConditionSub</th>\n",
       "      <th>Credit</th>\n",
       "      <th>Notes</th>\n",
       "      <th>convos</th>\n",
       "      <th>recalls</th>\n",
       "    </tr>\n",
       "  </thead>\n",
       "  <tbody>\n",
       "    <tr>\n",
       "      <th>0</th>\n",
       "      <td>2018-11-30 00:00:00</td>\n",
       "      <td>Evgeniia</td>\n",
       "      <td>JM</td>\n",
       "      <td>1</td>\n",
       "      <td>Incongruent</td>\n",
       "      <td>Happy</td>\n",
       "      <td>1</td>\n",
       "      <td>NaN</td>\n",
       "      <td>I'm Spencer by the way I'm Jake Nice to meet y...</td>\n",
       "      <td>We can start with  living in Nashville I live ...</td>\n",
       "    </tr>\n",
       "  </tbody>\n",
       "</table>\n",
       "</div>"
      ],
      "text/plain": [
       "                  Date Experimenter Subject Initials  SubjectID ConditionExpt  \\\n",
       "0  2018-11-30 00:00:00     Evgeniia               JM          1   Incongruent   \n",
       "\n",
       "  ConditionSub  Credit Notes  \\\n",
       "0        Happy       1   NaN   \n",
       "\n",
       "                                              convos  \\\n",
       "0  I'm Spencer by the way I'm Jake Nice to meet y...   \n",
       "\n",
       "                                             recalls  \n",
       "0  We can start with  living in Nashville I live ...  "
      ]
     },
     "execution_count": 74,
     "metadata": {},
     "output_type": "execute_result"
    }
   ],
   "source": [
    "import pandas as pd\n",
    "df = pd.read_csv('../data/recall_mood_data.csv', index_col=0)\n",
    "df.head(1)"
   ]
  },
  {
   "cell_type": "code",
   "execution_count": 5,
   "id": "add0afc8-341a-4526-86b3-d3ba58f727c9",
   "metadata": {},
   "outputs": [],
   "source": [
    "from transformers import AutoTokenizer, AutoModel\n",
    "import torch\n",
    "import torch.nn.functional as F\n",
    "\n",
    "def mean_pooling(model_output, attention_mask):\n",
    "    token_embeddings = model_output[0] #First element of model_output contains all token embeddings\n",
    "    input_mask_expanded = attention_mask.unsqueeze(-1).expand(token_embeddings.size()).float()\n",
    "    return torch.sum(token_embeddings * input_mask_expanded, 1) / torch.clamp(input_mask_expanded.sum(1), min=1e-9)\n",
    "\n",
    "tokenizer = AutoTokenizer.from_pretrained('sentence-transformers/all-mpnet-base-v2')\n",
    "model = AutoModel.from_pretrained('sentence-transformers/all-mpnet-base-v2')"
   ]
  },
  {
   "cell_type": "code",
   "execution_count": 6,
   "id": "45c6b8d5-9273-4862-b9f1-f848c09edd82",
   "metadata": {},
   "outputs": [],
   "source": [
    "def get_embeddings(sentences):\n",
    "    # Tokenize sentences\n",
    "    encoded_input = tokenizer(sentences, padding=True, truncation=True, return_tensors='pt')\n",
    "\n",
    "    # Compute token embeddings\n",
    "    with torch.no_grad():\n",
    "        model_output = model(**encoded_input)\n",
    "\n",
    "    # Perform pooling\n",
    "    sentence_embeddings = mean_pooling(model_output, encoded_input['attention_mask'])\n",
    "\n",
    "    # Normalize embeddings\n",
    "    sentence_embeddings = F.normalize(sentence_embeddings, p=2, dim=1)\n",
    "\n",
    "    return sentence_embeddings"
   ]
  },
  {
   "cell_type": "code",
   "execution_count": 8,
   "id": "e484773c-64cd-4fef-8ae1-df79999fcb00",
   "metadata": {},
   "outputs": [],
   "source": [
    "convos = get_embeddings(df['convos'].to_list())"
   ]
  },
  {
   "cell_type": "code",
   "execution_count": 9,
   "id": "83369236-492c-4690-b4b8-20ce7751e34b",
   "metadata": {},
   "outputs": [],
   "source": [
    "recalls = get_embeddings(df['recalls'].to_list())"
   ]
  },
  {
   "cell_type": "code",
   "execution_count": null,
   "id": "b083ef02-b348-4a4d-966d-32b9d02bf5e6",
   "metadata": {},
   "outputs": [],
   "source": [
    "torch.reshape(recalls[1], (1,768))"
   ]
  },
  {
   "cell_type": "code",
   "execution_count": 59,
   "id": "47b96c80-6f24-4caf-8b33-bfa7ca66ad00",
   "metadata": {},
   "outputs": [],
   "source": [
    "cos = torch.nn.CosineSimilarity(dim=1)\n",
    "distances = []\n",
    "for convo, recall in zip(convos, recalls):\n",
    "    distances.append(cos(convo, torch.reshape(recall, (1,768))).numpy())"
   ]
  },
  {
   "cell_type": "code",
   "execution_count": 75,
   "id": "1d78226e-80ba-4a59-b77e-0e7ce521a3e6",
   "metadata": {},
   "outputs": [
    {
     "data": {
      "text/html": [
       "<div>\n",
       "<style scoped>\n",
       "    .dataframe tbody tr th:only-of-type {\n",
       "        vertical-align: middle;\n",
       "    }\n",
       "\n",
       "    .dataframe tbody tr th {\n",
       "        vertical-align: top;\n",
       "    }\n",
       "\n",
       "    .dataframe thead th {\n",
       "        text-align: right;\n",
       "    }\n",
       "</style>\n",
       "<table border=\"1\" class=\"dataframe\">\n",
       "  <thead>\n",
       "    <tr style=\"text-align: right;\">\n",
       "      <th></th>\n",
       "      <th>Date</th>\n",
       "      <th>Experimenter</th>\n",
       "      <th>Subject Initials</th>\n",
       "      <th>SubjectID</th>\n",
       "      <th>ConditionExpt</th>\n",
       "      <th>ConditionSub</th>\n",
       "      <th>Credit</th>\n",
       "      <th>Notes</th>\n",
       "      <th>convos</th>\n",
       "      <th>recalls</th>\n",
       "      <th>cosine_distances</th>\n",
       "    </tr>\n",
       "  </thead>\n",
       "  <tbody>\n",
       "    <tr>\n",
       "      <th>0</th>\n",
       "      <td>2018-11-30 00:00:00</td>\n",
       "      <td>Evgeniia</td>\n",
       "      <td>JM</td>\n",
       "      <td>1</td>\n",
       "      <td>Incongruent</td>\n",
       "      <td>Happy</td>\n",
       "      <td>1</td>\n",
       "      <td>NaN</td>\n",
       "      <td>I'm Spencer by the way I'm Jake Nice to meet y...</td>\n",
       "      <td>We can start with  living in Nashville I live ...</td>\n",
       "      <td>[0.5797823]</td>\n",
       "    </tr>\n",
       "  </tbody>\n",
       "</table>\n",
       "</div>"
      ],
      "text/plain": [
       "                  Date Experimenter Subject Initials  SubjectID ConditionExpt  \\\n",
       "0  2018-11-30 00:00:00     Evgeniia               JM          1   Incongruent   \n",
       "\n",
       "  ConditionSub  Credit Notes  \\\n",
       "0        Happy       1   NaN   \n",
       "\n",
       "                                              convos  \\\n",
       "0  I'm Spencer by the way I'm Jake Nice to meet y...   \n",
       "\n",
       "                                             recalls cosine_distances  \n",
       "0  We can start with  living in Nashville I live ...      [0.5797823]  "
      ]
     },
     "execution_count": 75,
     "metadata": {},
     "output_type": "execute_result"
    }
   ],
   "source": [
    "df['cosine_distances'] = distances\n",
    "df.head(1)"
   ]
  },
  {
   "cell_type": "markdown",
   "id": "851254f9-5fd2-4a77-8fa8-16189c1167bd",
   "metadata": {},
   "source": [
    "# No correlation"
   ]
  },
  {
   "cell_type": "code",
   "execution_count": 62,
   "id": "95ced9c7-ae85-4975-b7a6-5b8518f0e57c",
   "metadata": {},
   "outputs": [
    {
     "data": {
      "text/plain": [
       "SpearmanrResult(correlation=0.017745298901829312, pvalue=0.8487400392089366)"
      ]
     },
     "execution_count": 62,
     "metadata": {},
     "output_type": "execute_result"
    }
   ],
   "source": [
    "from scipy import stats\n",
    "\n",
    "stats.spearmanr(df['SubjectID'], df['cosine_distances'])"
   ]
  },
  {
   "cell_type": "markdown",
   "id": "80a844c8-7520-435e-8738-a544fdc55652",
   "metadata": {},
   "source": [
    "# Recall sentences with embeddings\n",
    "\n",
    "We recall about half of the conversations using this method.\n",
    "\n",
    "This is not working as well as I had imagined."
   ]
  },
  {
   "cell_type": "code",
   "execution_count": 73,
   "id": "fcab59c1-d659-4ea0-ad47-45b059f1f8de",
   "metadata": {},
   "outputs": [
    {
     "name": "stdout",
     "output_type": "stream",
     "text": [
      "0 was most similar to 32\n",
      "Successful recall!\n",
      "Successful recall!\n",
      "Successful recall!\n",
      "Successful recall!\n",
      "Successful recall!\n",
      "6 was most similar to 50\n",
      "7 was most similar to 10\n",
      "Successful recall!\n",
      "9 was most similar to 32\n",
      "10 was most similar to 92\n",
      "11 was most similar to 32\n",
      "12 was most similar to 92\n",
      "13 was most similar to 106\n",
      "14 was most similar to 44\n",
      "15 was most similar to 8\n",
      "Successful recall!\n",
      "17 was most similar to 92\n",
      "Successful recall!\n",
      "19 was most similar to 88\n",
      "Successful recall!\n",
      "Successful recall!\n",
      "Successful recall!\n",
      "23 was most similar to 4\n",
      "24 was most similar to 8\n",
      "Successful recall!\n",
      "26 was most similar to 32\n",
      "27 was most similar to 50\n",
      "28 was most similar to 44\n",
      "29 was most similar to 44\n",
      "30 was most similar to 4\n",
      "Successful recall!\n",
      "Successful recall!\n",
      "Successful recall!\n",
      "Successful recall!\n",
      "35 was most similar to 88\n",
      "36 was most similar to 10\n",
      "37 was most similar to 52\n",
      "38 was most similar to 32\n",
      "39 was most similar to 32\n",
      "40 was most similar to 48\n",
      "41 was most similar to 48\n",
      "42 was most similar to 32\n",
      "Successful recall!\n",
      "Successful recall!\n",
      "45 was most similar to 60\n",
      "46 was most similar to 32\n",
      "47 was most similar to 32\n",
      "48 was most similar to 18\n",
      "49 was most similar to 50\n",
      "Successful recall!\n",
      "Successful recall!\n",
      "52 was most similar to 76\n",
      "53 was most similar to 76\n",
      "54 was most similar to 16\n",
      "55 was most similar to 88\n",
      "56 was most similar to 90\n",
      "57 was most similar to 48\n",
      "Successful recall!\n",
      "59 was most similar to 32\n",
      "Successful recall!\n",
      "Successful recall!\n",
      "62 was most similar to 32\n",
      "Successful recall!\n",
      "64 was most similar to 8\n",
      "Successful recall!\n",
      "Successful recall!\n",
      "67 was most similar to 26\n",
      "Successful recall!\n",
      "Successful recall!\n",
      "70 was most similar to 96\n",
      "71 was most similar to 32\n",
      "Successful recall!\n",
      "Successful recall!\n",
      "74 was most similar to 76\n",
      "75 was most similar to 32\n",
      "76 was most similar to 10\n",
      "Successful recall!\n",
      "78 was most similar to 32\n",
      "79 was most similar to 96\n",
      "Successful recall!\n",
      "Successful recall!\n",
      "Successful recall!\n",
      "Successful recall!\n",
      "84 was most similar to 50\n",
      "Successful recall!\n",
      "86 was most similar to 88\n",
      "87 was most similar to 98\n",
      "88 was most similar to 10\n",
      "89 was most similar to 90\n",
      "Successful recall!\n",
      "Successful recall!\n",
      "92 was most similar to 84\n",
      "93 was most similar to 32\n",
      "94 was most similar to 32\n",
      "95 was most similar to 90\n",
      "96 was most similar to 0\n",
      "Successful recall!\n",
      "98 was most similar to 92\n",
      "99 was most similar to 20\n",
      "100 was most similar to 32\n",
      "Successful recall!\n",
      "102 was most similar to 90\n",
      "103 was most similar to 4\n",
      "104 was most similar to 32\n",
      "105 was most similar to 32\n",
      "Successful recall!\n",
      "107 was most similar to 110\n",
      "108 was most similar to 50\n",
      "109 was most similar to 32\n",
      "110 was most similar to 32\n",
      "111 was most similar to 32\n",
      "Successful recall!\n",
      "Successful recall!\n",
      "Successful recall!\n",
      "Successful recall!\n",
      "116 was most similar to 32\n",
      "117 was most similar to 80\n"
     ]
    }
   ],
   "source": [
    "cos = torch.nn.CosineSimilarity(dim=1)\n",
    "\n",
    "for i, recall in enumerate(recalls):\n",
    "    sim = cos(convos, recall).argmax(-1).int()\n",
    "    if sim == i or sim == (i//2)*2:\n",
    "        print('Successful recall!')\n",
    "    else:\n",
    "        print(f'{i} was most similar to {sim}')"
   ]
  }
 ],
 "metadata": {
  "kernelspec": {
   "display_name": "Python [conda env:transformers]",
   "language": "python",
   "name": "conda-env-transformers-py"
  },
  "language_info": {
   "codemirror_mode": {
    "name": "ipython",
    "version": 3
   },
   "file_extension": ".py",
   "mimetype": "text/x-python",
   "name": "python",
   "nbconvert_exporter": "python",
   "pygments_lexer": "ipython3",
   "version": "3.10.5"
  }
 },
 "nbformat": 4,
 "nbformat_minor": 5
}
