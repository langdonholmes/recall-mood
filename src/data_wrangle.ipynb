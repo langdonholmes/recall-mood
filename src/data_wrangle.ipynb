{
 "cells": [
  {
   "cell_type": "code",
   "execution_count": 1,
   "id": "945d55b3-4c62-414e-8e8a-96db7026e865",
   "metadata": {},
   "outputs": [
    {
     "data": {
      "text/plain": [
       "PosixPath('/home/jovyan/2022_10_recall_mood/src')"
      ]
     },
     "execution_count": 1,
     "metadata": {},
     "output_type": "execute_result"
    }
   ],
   "source": [
    "from pathlib import Path\n",
    "import pandas as pd\n",
    "\n",
    "Path.cwd()"
   ]
  },
  {
   "cell_type": "code",
   "execution_count": 2,
   "id": "8f016bb2-464b-4abf-a967-aa3375413a29",
   "metadata": {},
   "outputs": [],
   "source": [
    "CONVERSATIONS = Path.cwd().parent / 'data' / 'coded conversations'\n",
    "RECALLS = Path.cwd().parent / 'data' / 'coded recalls'\n",
    "CONDITIONS = Path.cwd().parent / 'data' / 'tracker.xlsx'"
   ]
  },
  {
   "cell_type": "markdown",
   "id": "f3f4c9eb-8450-4181-ba2a-71dee92ad203",
   "metadata": {},
   "source": [
    "## Conversations\n",
    "\n",
    "Dictionary of conversations texts. Each participant is a key, with the conversation they participated in as a value.\n",
    "Conversation is duplicated, once for each participant who participated in it.\n",
    "\n",
    "There are some unknown extension errors that need to be explored."
   ]
  },
  {
   "cell_type": "code",
   "execution_count": 19,
   "id": "4805f810-cedf-4b51-9396-401b29c00309",
   "metadata": {},
   "outputs": [
    {
     "name": "stderr",
     "output_type": "stream",
     "text": [
      "/home/jovyan/conda_envs/spacy/lib/python3.10/site-packages/openpyxl/worksheet/_read_only.py:79: UserWarning: Unknown extension is not supported and will be removed\n",
      "  for idx, row in parser.parse():\n",
      "/home/jovyan/conda_envs/spacy/lib/python3.10/site-packages/openpyxl/worksheet/_read_only.py:79: UserWarning: Unknown extension is not supported and will be removed\n",
      "  for idx, row in parser.parse():\n",
      "/home/jovyan/conda_envs/spacy/lib/python3.10/site-packages/openpyxl/worksheet/_read_only.py:79: UserWarning: Unknown extension is not supported and will be removed\n",
      "  for idx, row in parser.parse():\n",
      "/home/jovyan/conda_envs/spacy/lib/python3.10/site-packages/openpyxl/worksheet/_read_only.py:79: UserWarning: Unknown extension is not supported and will be removed\n",
      "  for idx, row in parser.parse():\n",
      "/home/jovyan/conda_envs/spacy/lib/python3.10/site-packages/openpyxl/worksheet/_read_only.py:79: UserWarning: Unknown extension is not supported and will be removed\n",
      "  for idx, row in parser.parse():\n",
      "/home/jovyan/conda_envs/spacy/lib/python3.10/site-packages/openpyxl/worksheet/_read_only.py:79: UserWarning: Unknown extension is not supported and will be removed\n",
      "  for idx, row in parser.parse():\n"
     ]
    }
   ],
   "source": [
    "convos = {}\n",
    "for f in CONVERSATIONS.iterdir():\n",
    "    participant_id_1, participant_id_2 = f.stem.split('_')[1].split('&')\n",
    "    tempdf = pd.read_excel(f, engine='openpyxl', header=None, usecols=[1], dtype=pd.StringDtype(), verbose=False).squeeze('columns')\n",
    "    conversation_text = ' '.join(tempdf.astype(str))\n",
    "    convos[participant_id_1] = conversation_text\n",
    "    convos[participant_id_2] = conversation_text"
   ]
  },
  {
   "cell_type": "markdown",
   "id": "53b1e454-d1bc-4ca6-8496-50c33cf6ce19",
   "metadata": {},
   "source": [
    "## Recalls\n",
    "\n",
    "Dictionary of recalls.\n",
    "\n",
    "I pull text from the 'Coded' sheet of the file and use the 'Recall IU' column.\n",
    "\n",
    "One unknown extension error needs to addressed."
   ]
  },
  {
   "cell_type": "code",
   "execution_count": 20,
   "id": "03c1fb8a-32e8-42ca-99e0-6a772489f412",
   "metadata": {},
   "outputs": [
    {
     "name": "stderr",
     "output_type": "stream",
     "text": [
      "/home/jovyan/conda_envs/spacy/lib/python3.10/site-packages/openpyxl/worksheet/_read_only.py:79: UserWarning: Unknown extension is not supported and will be removed\n",
      "  for idx, row in parser.parse():\n"
     ]
    }
   ],
   "source": [
    "recalls = {}\n",
    "for f in RECALLS.iterdir():\n",
    "    participant_id = f.stem[6:] # first 6 characters are 'Recall'. We want the id_num that follows.\n",
    "    tempdf = pd.read_excel(f, engine='openpyxl', header=0, sheet_name='Coded', usecols=['Recall IU'], dtype=pd.StringDtype(), verbose=False).squeeze('columns')\n",
    "    text = ' '.join(tempdf.astype(str))\n",
    "    recalls[participant_id] = text"
   ]
  },
  {
   "cell_type": "code",
   "execution_count": 27,
   "id": "38d5256f-daee-4556-9396-1702bb56eef7",
   "metadata": {
    "tags": []
   },
   "outputs": [
    {
     "name": "stdout",
     "output_type": "stream",
     "text": [
      "I'm Spencer by the way I'm Jake Nice to meet you Alright so I think we can start with living in Nash\n",
      "We can start with  living in Nashville I live  on \n"
     ]
    }
   ],
   "source": [
    "print(convos['1'][:100])\n",
    "print(recalls['1'][:50])"
   ]
  },
  {
   "cell_type": "markdown",
   "id": "7a9bcbd1-9f2b-4fc4-9e22-9a084fc7e83c",
   "metadata": {},
   "source": [
    "## Conditions"
   ]
  },
  {
   "cell_type": "code",
   "execution_count": 23,
   "id": "ffa10a15-597d-4602-aabc-c84edbb681dc",
   "metadata": {},
   "outputs": [
    {
     "data": {
      "text/html": [
       "<div>\n",
       "<style scoped>\n",
       "    .dataframe tbody tr th:only-of-type {\n",
       "        vertical-align: middle;\n",
       "    }\n",
       "\n",
       "    .dataframe tbody tr th {\n",
       "        vertical-align: top;\n",
       "    }\n",
       "\n",
       "    .dataframe thead th {\n",
       "        text-align: right;\n",
       "    }\n",
       "</style>\n",
       "<table border=\"1\" class=\"dataframe\">\n",
       "  <thead>\n",
       "    <tr style=\"text-align: right;\">\n",
       "      <th></th>\n",
       "      <th>Date</th>\n",
       "      <th>Experimenter</th>\n",
       "      <th>Subject Initials</th>\n",
       "      <th>SubjectID</th>\n",
       "      <th>ConditionExpt</th>\n",
       "      <th>ConditionSub</th>\n",
       "      <th>Credit</th>\n",
       "      <th>Notes</th>\n",
       "    </tr>\n",
       "  </thead>\n",
       "  <tbody>\n",
       "    <tr>\n",
       "      <th>0</th>\n",
       "      <td>2018-11-30 00:00:00</td>\n",
       "      <td>Evgeniia</td>\n",
       "      <td>JM</td>\n",
       "      <td>1</td>\n",
       "      <td>Incongruent</td>\n",
       "      <td>Happy</td>\n",
       "      <td>1</td>\n",
       "      <td>NaN</td>\n",
       "    </tr>\n",
       "    <tr>\n",
       "      <th>1</th>\n",
       "      <td>2018-11-30 00:00:00</td>\n",
       "      <td>Evgeniia</td>\n",
       "      <td>SL</td>\n",
       "      <td>2</td>\n",
       "      <td>Incongruent</td>\n",
       "      <td>Sad</td>\n",
       "      <td>1</td>\n",
       "      <td>NaN</td>\n",
       "    </tr>\n",
       "    <tr>\n",
       "      <th>2</th>\n",
       "      <td>2018-12-13 00:00:00</td>\n",
       "      <td>Evgeniia</td>\n",
       "      <td>CB</td>\n",
       "      <td>3</td>\n",
       "      <td>Congruent</td>\n",
       "      <td>Happy</td>\n",
       "      <td>0</td>\n",
       "      <td>NaN</td>\n",
       "    </tr>\n",
       "    <tr>\n",
       "      <th>3</th>\n",
       "      <td>2018-12-13 00:00:00</td>\n",
       "      <td>Evgeniia</td>\n",
       "      <td>SG</td>\n",
       "      <td>4</td>\n",
       "      <td>Congruent</td>\n",
       "      <td>Happy</td>\n",
       "      <td>0</td>\n",
       "      <td>NaN</td>\n",
       "    </tr>\n",
       "    <tr>\n",
       "      <th>4</th>\n",
       "      <td>2019-01-16 00:00:00</td>\n",
       "      <td>Evgeniia</td>\n",
       "      <td>MB</td>\n",
       "      <td>5</td>\n",
       "      <td>Congruent</td>\n",
       "      <td>Sad</td>\n",
       "      <td>0</td>\n",
       "      <td>NaN</td>\n",
       "    </tr>\n",
       "  </tbody>\n",
       "</table>\n",
       "</div>"
      ],
      "text/plain": [
       "                  Date Experimenter Subject Initials SubjectID ConditionExpt  \\\n",
       "0  2018-11-30 00:00:00     Evgeniia               JM         1   Incongruent   \n",
       "1  2018-11-30 00:00:00     Evgeniia               SL         2   Incongruent   \n",
       "2  2018-12-13 00:00:00     Evgeniia               CB         3     Congruent   \n",
       "3  2018-12-13 00:00:00     Evgeniia               SG         4     Congruent   \n",
       "4  2019-01-16 00:00:00     Evgeniia               MB         5     Congruent   \n",
       "\n",
       "  ConditionSub  Credit Notes  \n",
       "0        Happy       1   NaN  \n",
       "1          Sad       1   NaN  \n",
       "2        Happy       0   NaN  \n",
       "3        Happy       0   NaN  \n",
       "4          Sad       0   NaN  "
      ]
     },
     "execution_count": 23,
     "metadata": {},
     "output_type": "execute_result"
    }
   ],
   "source": [
    "dtypes = {'SubjectID': str,\n",
    "          'ConditionExpt': pd.Categorical,\n",
    "          'ConditionSub': pd.Categorical,\n",
    "         }\n",
    "\n",
    "df = pd.read_excel(CONDITIONS, engine='openpyxl', sheet_name='Conditions', dtype=dtypes, skiprows=[123], verbose=False)\n",
    "df.head()"
   ]
  },
  {
   "cell_type": "code",
   "execution_count": 24,
   "id": "cd083803-76e7-4579-9f14-1377c573e4b6",
   "metadata": {},
   "outputs": [],
   "source": [
    "out = pd.merge(df, pd.Series(convos, name='convos'), left_on='SubjectID', right_index=True)\n",
    "out = pd.merge(out, pd.Series(recalls, name='recalls'), left_on='SubjectID', right_index=True)"
   ]
  },
  {
   "cell_type": "code",
   "execution_count": 25,
   "id": "0d270b01-1fed-4021-be87-98ae4add0dae",
   "metadata": {},
   "outputs": [],
   "source": [
    "out.to_csv('../data/recall_mood_data.csv')"
   ]
  },
  {
   "cell_type": "markdown",
   "id": "d0543b39-cd43-40fd-a6aa-ec7609272d06",
   "metadata": {},
   "source": [
    "## To Discuss\n",
    "\n",
    "Text cleaning steps\n",
    "1. remove text between carots <>. These are annotator notes.\n",
    "2. Remove asterisks and ellipses?\n",
    "\n",
    "Also need to verify that the text I am pulling is faithful to the transcript. I did not spend much time verifying this.\n",
    "\n",
    "Participants 117 and 118 are missing. "
   ]
  }
 ],
 "metadata": {
  "kernelspec": {
   "display_name": "Python [conda env:spacy]",
   "language": "python",
   "name": "conda-env-spacy-py"
  },
  "language_info": {
   "codemirror_mode": {
    "name": "ipython",
    "version": 3
   },
   "file_extension": ".py",
   "mimetype": "text/x-python",
   "name": "python",
   "nbconvert_exporter": "python",
   "pygments_lexer": "ipython3",
   "version": "3.10.5"
  }
 },
 "nbformat": 4,
 "nbformat_minor": 5
}
